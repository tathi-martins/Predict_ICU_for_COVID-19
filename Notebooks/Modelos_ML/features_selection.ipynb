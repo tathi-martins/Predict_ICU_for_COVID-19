{
  "nbformat": 4,
  "nbformat_minor": 0,
  "metadata": {
    "colab": {
      "name": "features_selection_projeto_final.ipynb",
      "provenance": []
    },
    "kernelspec": {
      "display_name": "Python 3",
      "name": "python3"
    },
    "language_info": {
      "name": "python"
    }
  },
  "cells": [
    {
      "cell_type": "markdown",
      "metadata": {
        "id": "VxSirQFCs9CB"
      },
      "source": [
        "# **Selecionando as melhores features ou colunas para utilizar no nosso modelo**\n",
        "\n",
        "### A seleção de features é uma das fases mais importantes na criação de um modelo de machine learning, ele ajuda a melhorar e aperfeiçoar os modelos que estivermos criando, aumentando assim o desempenho deles, diminuindo as chances de overfitting ou underfitting. Por isso, eu escolhi algums algoritmos de seleção de features ou colunas que serão usados nos modelos, entre estes algoritmos estão: SelectKBest, SelectFromModel, VarianceThreshold e o algoritmo criado em aula RemoveCorrVarr."
      ]
    },
    {
      "cell_type": "markdown",
      "metadata": {
        "id": "6yRUWaxfWFfh"
      },
      "source": [
        "## **Selecionando as melhores features/colunas dos nossos dados com SelectKBest**"
      ]
    },
    {
      "cell_type": "markdown",
      "metadata": {
        "id": "yy_c8P0wIEzv"
      },
      "source": [
        "### O SelectKBest calcula as melhores features através de testes estatítisticos univariados (univariate statistical test). A função calcula quais são as K maiores features do seu dataset com base em um teste estatístico, onde K é o número máximo de features que você quiser utilizar."
      ]
    },
    {
      "cell_type": "code",
      "metadata": {
        "id": "Wye232QkGw1Q"
      },
      "source": [
        "def selecao_features_selectkbest(n_features):\n",
        "\n",
        "  # Número de features \n",
        "  n = n_features\n",
        "\n",
        "\n",
        "  # features/colunas\n",
        "  x = dados_finais.drop(['ICU', 'WINDOW', 'PATIENT_VISIT_IDENTIFIER'], axis=1)\n",
        "  y = dados_finais['ICU']\n",
        "\n",
        "  # Seleção das features\n",
        "  seletor = SelectKBest(k=n)\n",
        "  x2 = seletor.fit_transform(x, y)\n",
        "  \n",
        "  # Imprimindo os resultados\n",
        "  mask = seletor.get_support()\n",
        "  best_features = x.columns[mask]\n",
        "  print(f'----- As melhores {n} features SelectKBest --------')\n",
        "  print('\\n')\n",
        "  print(best_features)"
      ],
      "execution_count": 12,
      "outputs": []
    },
    {
      "cell_type": "code",
      "metadata": {
        "id": "zmgovauLrZFX",
        "colab": {
          "base_uri": "https://localhost:8080/"
        },
        "outputId": "6563cba7-b5ac-46da-ce42-f721659a0d6a"
      },
      "source": [
        "selecao_features_selectkbest(100)"
      ],
      "execution_count": 13,
      "outputs": [
        {
          "output_type": "stream",
          "text": [
            "----- As melhores 100 features SelectKBest --------\n",
            "\n",
            "\n",
            "Index(['AGE_ABOVE65', 'AGE_PERCENTIL', 'GENDER', 'DISEASE GROUPING 3',\n",
            "       'DISEASE GROUPING 4', 'DISEASE GROUPING 5', 'HTN', 'ALBUMIN_MEDIAN',\n",
            "       'ALBUMIN_MEAN', 'ALBUMIN_MIN', 'ALBUMIN_MAX', 'BE_ARTERIAL_MIN',\n",
            "       'BE_ARTERIAL_MAX', 'BE_VENOUS_MEDIAN', 'BE_VENOUS_MEAN',\n",
            "       'BE_VENOUS_MIN', 'BE_VENOUS_MAX', 'CALCIUM_MEDIAN', 'CALCIUM_MEAN',\n",
            "       'CALCIUM_MIN', 'CALCIUM_MAX', 'CREATININ_MEDIAN', 'CREATININ_MEAN',\n",
            "       'CREATININ_MIN', 'CREATININ_MAX', 'GLUCOSE_MEDIAN', 'GLUCOSE_MEAN',\n",
            "       'GLUCOSE_MIN', 'GLUCOSE_MAX', 'HEMATOCRITE_MEDIAN', 'HEMATOCRITE_MEAN',\n",
            "       'HEMATOCRITE_MIN', 'HEMATOCRITE_MAX', 'HEMOGLOBIN_MEDIAN',\n",
            "       'HEMOGLOBIN_MEAN', 'HEMOGLOBIN_MIN', 'HEMOGLOBIN_MAX', 'INR_MEDIAN',\n",
            "       'INR_MEAN', 'INR_MIN', 'INR_MAX', 'LACTATE_MEDIAN', 'LACTATE_MEAN',\n",
            "       'LACTATE_MIN', 'LACTATE_MAX', 'LEUKOCYTES_MEDIAN', 'LEUKOCYTES_MEAN',\n",
            "       'LEUKOCYTES_MIN', 'LEUKOCYTES_MAX', 'LINFOCITOS_MEDIAN',\n",
            "       'LINFOCITOS_MEAN', 'LINFOCITOS_MIN', 'LINFOCITOS_MAX',\n",
            "       'NEUTROPHILES_MEDIAN', 'NEUTROPHILES_MEAN', 'NEUTROPHILES_MIN',\n",
            "       'NEUTROPHILES_MAX', 'PC02_VENOUS_MEDIAN', 'PC02_VENOUS_MEAN',\n",
            "       'PC02_VENOUS_MIN', 'PC02_VENOUS_MAX', 'PCR_MEDIAN', 'PCR_MEAN',\n",
            "       'PCR_MIN', 'PCR_MAX', 'PH_VENOUS_MEDIAN', 'PH_VENOUS_MEAN',\n",
            "       'PH_VENOUS_MIN', 'PH_VENOUS_MAX', 'POTASSIUM_MEDIAN', 'POTASSIUM_MEAN',\n",
            "       'POTASSIUM_MIN', 'POTASSIUM_MAX', 'SAT02_ARTERIAL_MEDIAN',\n",
            "       'SAT02_ARTERIAL_MEAN', 'SAT02_ARTERIAL_MIN', 'SAT02_ARTERIAL_MAX',\n",
            "       'SODIUM_MEDIAN', 'SODIUM_MEAN', 'SODIUM_MIN', 'SODIUM_MAX',\n",
            "       'UREA_MEDIAN', 'UREA_MEAN', 'UREA_MIN', 'UREA_MAX',\n",
            "       'BLOODPRESSURE_DIASTOLIC_MEAN', 'RESPIRATORY_RATE_MEAN',\n",
            "       'OXYGEN_SATURATION_MEAN', 'BLOODPRESSURE_DIASTOLIC_MEDIAN',\n",
            "       'RESPIRATORY_RATE_MEDIAN', 'OXYGEN_SATURATION_MEDIAN',\n",
            "       'BLOODPRESSURE_DIASTOLIC_MIN', 'RESPIRATORY_RATE_MIN',\n",
            "       'OXYGEN_SATURATION_MIN', 'BLOODPRESSURE_DIASTOLIC_MAX',\n",
            "       'BLOODPRESSURE_SISTOLIC_MAX', 'RESPIRATORY_RATE_MAX',\n",
            "       'OXYGEN_SATURATION_MAX', 'BLOODPRESSURE_SISTOLIC_DIFF',\n",
            "       'BLOODPRESSURE_SISTOLIC_DIFF_REL'],\n",
            "      dtype='object')\n"
          ],
          "name": "stdout"
        }
      ]
    },
    {
      "cell_type": "markdown",
      "metadata": {
        "id": "Tx7Jv669V24b"
      },
      "source": [
        "## **Selecionando as melhores features/colunas dos nossos dados com SelectFromModel**"
      ]
    },
    {
      "cell_type": "markdown",
      "metadata": {
        "id": "1hk5u_cxMWOF"
      },
      "source": [
        "### É uma função que, a partir de um modelo (com fit ou não), irá remover todas as features que não passem do threshold que você informar em seus argumentos. O funcionamento do SelectFromModel é parecido com o RFE, porém, o SFM é mais leve e rápido, já que ele baseia sua seleção apenas no threshold informado, enquanto que o RFE remove as features através de iterações (loops)."
      ]
    },
    {
      "cell_type": "code",
      "metadata": {
        "id": "mjoAgtXTQaet"
      },
      "source": [
        "def selecao_features_selectfrommodel(n_features, nome_modelo, modelo):\n",
        "\n",
        "  # Número de features \n",
        "  n = n_features\n",
        "\n",
        "\n",
        "  # features/colunas\n",
        "  x = dados_finais.drop(['ICU', 'WINDOW', 'PATIENT_VISIT_IDENTIFIER'], axis=1)\n",
        "  y = dados_finais['ICU']\n",
        " \n",
        "  # Modelo \n",
        "  x_treino, x_teste, y_treino, y_teste = train_test_split(x,y, test_size=0.30, random_state=3165) \n",
        "  m = modelo\n",
        "  m.fit(x_treino, y_treino)\n",
        "  y_pred = m.predict(x_teste)\n",
        "  y_proba = m.predict_proba(x_teste)\n",
        "\n",
        "\n",
        "  # Seleção das features\n",
        "  seletor = SelectFromModel(estimator=modelo, max_features = n)\n",
        "  x_treino2 = seletor.fit_transform(x_treino, y_treino)\n",
        "  x_teste2 = seletor.transform(x_teste)\n",
        "\n",
        "  # Imprimindo os resultados\n",
        "  mask = seletor.get_support()\n",
        "  best_features = x.columns[mask]\n",
        "  print(f'----- As melhores {n} features {nome_modelo} --------')\n",
        "  print('\\n')\n",
        "  print(best_features)\n",
        "  print(f'Número de features: {len(best_features)}')"
      ],
      "execution_count": 14,
      "outputs": []
    },
    {
      "cell_type": "code",
      "metadata": {
        "id": "1x906HjrSDLS",
        "colab": {
          "base_uri": "https://localhost:8080/"
        },
        "outputId": "6af7be7b-b45b-4980-b39d-92556241b711"
      },
      "source": [
        "selecao_features_selectfrommodel(100, 'XGBoost', XGBClassifier(random_state=3165))"
      ],
      "execution_count": 15,
      "outputs": [
        {
          "output_type": "stream",
          "text": [
            "----- As melhores 100 features XGBoost --------\n",
            "\n",
            "\n",
            "Index(['AGE_ABOVE65', 'AGE_PERCENTIL', 'GENDER', 'DISEASE GROUPING 1',\n",
            "       'DISEASE GROUPING 3', 'HTN', 'BE_VENOUS_MEDIAN', 'BILLIRUBIN_MEDIAN',\n",
            "       'CALCIUM_MEDIAN', 'CREATININ_MEDIAN', 'FFA_MEDIAN', 'GGT_MEDIAN',\n",
            "       'GLUCOSE_MEDIAN', 'HEMATOCRITE_MEDIAN', 'HEMOGLOBIN_MEDIAN',\n",
            "       'LACTATE_MEDIAN', 'LEUKOCYTES_MEDIAN', 'LINFOCITOS_MEDIAN',\n",
            "       'NEUTROPHILES_MEDIAN', 'PC02_VENOUS_MEDIAN', 'PCR_MEDIAN',\n",
            "       'PLATELETS_MEDIAN', 'POTASSIUM_MEDIAN', 'SAT02_VENOUS_MEDIAN',\n",
            "       'SODIUM_MEDIAN', 'TGO_MEDIAN', 'TGP_MEDIAN', 'TTPA_MEDIAN',\n",
            "       'UREA_MEDIAN', 'DIMER_MEDIAN', 'BLOODPRESSURE_DIASTOLIC_MEAN',\n",
            "       'BLOODPRESSURE_SISTOLIC_MEAN', 'HEART_RATE_MEAN',\n",
            "       'RESPIRATORY_RATE_MEAN', 'TEMPERATURE_MEAN', 'OXYGEN_SATURATION_MEAN',\n",
            "       'BLOODPRESSURE_DIASTOLIC_MEDIAN', 'HEART_RATE_MEDIAN',\n",
            "       'RESPIRATORY_RATE_MEDIAN', 'BLOODPRESSURE_DIASTOLIC_MIN',\n",
            "       'BLOODPRESSURE_SISTOLIC_MIN', 'HEART_RATE_MIN', 'RESPIRATORY_RATE_MIN',\n",
            "       'TEMPERATURE_MIN', 'OXYGEN_SATURATION_MIN',\n",
            "       'BLOODPRESSURE_DIASTOLIC_MAX', 'BLOODPRESSURE_SISTOLIC_MAX',\n",
            "       'HEART_RATE_MAX', 'RESPIRATORY_RATE_MAX', 'TEMPERATURE_MAX',\n",
            "       'RESPIRATORY_RATE_DIFF', 'TEMPERATURE_DIFF',\n",
            "       'BLOODPRESSURE_SISTOLIC_DIFF_REL', 'RESPIRATORY_RATE_DIFF_REL',\n",
            "       'TEMPERATURE_DIFF_REL', 'OXYGEN_SATURATION_DIFF_REL'],\n",
            "      dtype='object')\n",
            "Número de features: 56\n"
          ],
          "name": "stdout"
        }
      ]
    },
    {
      "cell_type": "code",
      "metadata": {
        "id": "-n905E0IZKw0",
        "colab": {
          "base_uri": "https://localhost:8080/"
        },
        "outputId": "e4bdf20d-ed8d-4551-c3d2-fb003fc3d911"
      },
      "source": [
        "selecao_features_selectfrommodel(100, 'RandomForest', RandomForestClassifier(random_state=3165))"
      ],
      "execution_count": 16,
      "outputs": [
        {
          "output_type": "stream",
          "text": [
            "----- As melhores 100 features RandomForest --------\n",
            "\n",
            "\n",
            "Index(['AGE_ABOVE65', 'AGE_PERCENTIL', 'HTN', 'BIC_VENOUS_MEAN',\n",
            "       'BILLIRUBIN_MEAN', 'BILLIRUBIN_MIN', 'BILLIRUBIN_MAX', 'CALCIUM_MIN',\n",
            "       'CALCIUM_MAX', 'CREATININ_MEDIAN', 'CREATININ_MEAN', 'CREATININ_MIN',\n",
            "       'CREATININ_MAX', 'GLUCOSE_MIN', 'GLUCOSE_MAX', 'HEMATOCRITE_MEDIAN',\n",
            "       'HEMATOCRITE_MEAN', 'HEMATOCRITE_MIN', 'HEMATOCRITE_MAX',\n",
            "       'HEMOGLOBIN_MEDIAN', 'HEMOGLOBIN_MEAN', 'HEMOGLOBIN_MIN',\n",
            "       'HEMOGLOBIN_MAX', 'LACTATE_MEAN', 'LEUKOCYTES_MEDIAN',\n",
            "       'LEUKOCYTES_MEAN', 'LEUKOCYTES_MIN', 'LEUKOCYTES_MAX',\n",
            "       'LINFOCITOS_MEDIAN', 'LINFOCITOS_MEAN', 'LINFOCITOS_MIN',\n",
            "       'LINFOCITOS_MAX', 'NEUTROPHILES_MEDIAN', 'NEUTROPHILES_MEAN',\n",
            "       'NEUTROPHILES_MIN', 'NEUTROPHILES_MAX', 'PC02_VENOUS_MIN', 'PCR_MEDIAN',\n",
            "       'PCR_MEAN', 'PCR_MIN', 'PCR_MAX', 'PLATELETS_MIN', 'PLATELETS_MAX',\n",
            "       'POTASSIUM_MEDIAN', 'POTASSIUM_MEAN', 'POTASSIUM_MIN', 'POTASSIUM_MAX',\n",
            "       'SAT02_VENOUS_MIN', 'SODIUM_MEDIAN', 'SODIUM_MEAN', 'SODIUM_MIN',\n",
            "       'SODIUM_MAX', 'TGO_MEDIAN', 'TGO_MEAN', 'TGO_MIN', 'TGP_MEDIAN',\n",
            "       'TGP_MIN', 'TGP_MAX', 'UREA_MEDIAN', 'UREA_MEAN', 'UREA_MIN',\n",
            "       'UREA_MAX', 'DIMER_MEDIAN', 'DIMER_MAX', 'BLOODPRESSURE_DIASTOLIC_MEAN',\n",
            "       'BLOODPRESSURE_SISTOLIC_MEAN', 'HEART_RATE_MEAN',\n",
            "       'RESPIRATORY_RATE_MEAN', 'TEMPERATURE_MEAN', 'OXYGEN_SATURATION_MEAN',\n",
            "       'BLOODPRESSURE_DIASTOLIC_MEDIAN', 'BLOODPRESSURE_SISTOLIC_MEDIAN',\n",
            "       'HEART_RATE_MEDIAN', 'RESPIRATORY_RATE_MEDIAN', 'TEMPERATURE_MEDIAN',\n",
            "       'OXYGEN_SATURATION_MEDIAN', 'BLOODPRESSURE_DIASTOLIC_MIN',\n",
            "       'BLOODPRESSURE_SISTOLIC_MIN', 'HEART_RATE_MIN', 'RESPIRATORY_RATE_MIN',\n",
            "       'TEMPERATURE_MIN', 'OXYGEN_SATURATION_MIN',\n",
            "       'BLOODPRESSURE_DIASTOLIC_MAX', 'BLOODPRESSURE_SISTOLIC_MAX',\n",
            "       'HEART_RATE_MAX', 'RESPIRATORY_RATE_MAX', 'TEMPERATURE_MAX',\n",
            "       'OXYGEN_SATURATION_MAX'],\n",
            "      dtype='object')\n",
            "Número de features: 88\n"
          ],
          "name": "stdout"
        }
      ]
    },
    {
      "cell_type": "code",
      "metadata": {
        "id": "SHXmm5NDZL3e",
        "colab": {
          "base_uri": "https://localhost:8080/"
        },
        "outputId": "a74d4867-cf47-445d-9929-0fc71d72db0d"
      },
      "source": [
        "selecao_features_selectfrommodel(100, 'LGBM', LGBMClassifier(random_state=3165))"
      ],
      "execution_count": 17,
      "outputs": [
        {
          "output_type": "stream",
          "text": [
            "----- As melhores 100 features LGBM --------\n",
            "\n",
            "\n",
            "Index(['AGE_ABOVE65', 'AGE_PERCENTIL', 'DISEASE GROUPING 3', 'HTN',\n",
            "       'IMMUNOCOMPROMISED', 'BILLIRUBIN_MEDIAN', 'CALCIUM_MEDIAN',\n",
            "       'CREATININ_MEDIAN', 'GGT_MEDIAN', 'GLUCOSE_MEDIAN',\n",
            "       'HEMATOCRITE_MEDIAN', 'HEMOGLOBIN_MEDIAN', 'LACTATE_MEDIAN',\n",
            "       'LEUKOCYTES_MEDIAN', 'LINFOCITOS_MEDIAN', 'NEUTROPHILES_MEDIAN',\n",
            "       'P02_VENOUS_MEDIAN', 'PC02_VENOUS_MEDIAN', 'PCR_MEDIAN',\n",
            "       'PLATELETS_MEDIAN', 'POTASSIUM_MEDIAN', 'SAT02_VENOUS_MEDIAN',\n",
            "       'SODIUM_MEDIAN', 'TGO_MEDIAN', 'TGP_MEDIAN', 'TTPA_MEDIAN',\n",
            "       'UREA_MEDIAN', 'DIMER_MEDIAN', 'BLOODPRESSURE_DIASTOLIC_MEAN',\n",
            "       'BLOODPRESSURE_SISTOLIC_MEAN', 'HEART_RATE_MEAN',\n",
            "       'RESPIRATORY_RATE_MEAN', 'TEMPERATURE_MEAN', 'OXYGEN_SATURATION_MEAN',\n",
            "       'BLOODPRESSURE_DIASTOLIC_MEDIAN', 'BLOODPRESSURE_SISTOLIC_MEDIAN',\n",
            "       'HEART_RATE_MEDIAN', 'RESPIRATORY_RATE_MEDIAN',\n",
            "       'BLOODPRESSURE_DIASTOLIC_MIN', 'BLOODPRESSURE_SISTOLIC_MIN',\n",
            "       'HEART_RATE_MIN', 'RESPIRATORY_RATE_MIN', 'TEMPERATURE_MIN',\n",
            "       'OXYGEN_SATURATION_MIN', 'BLOODPRESSURE_DIASTOLIC_MAX',\n",
            "       'BLOODPRESSURE_SISTOLIC_MAX', 'HEART_RATE_MAX', 'RESPIRATORY_RATE_MAX',\n",
            "       'TEMPERATURE_MAX', 'OXYGEN_SATURATION_MAX', 'RESPIRATORY_RATE_DIFF',\n",
            "       'TEMPERATURE_DIFF_REL'],\n",
            "      dtype='object')\n",
            "Número de features: 52\n"
          ],
          "name": "stdout"
        }
      ]
    },
    {
      "cell_type": "code",
      "metadata": {
        "id": "S7tQR6R5DqJH",
        "colab": {
          "base_uri": "https://localhost:8080/"
        },
        "outputId": "161bac51-ff17-4d7a-aa4c-f49c9beaa60e"
      },
      "source": [
        "selecao_features_selectfrommodel(100, 'LogisticRegression', LogisticRegression(max_iter = 200, random_state=3165))"
      ],
      "execution_count": 18,
      "outputs": [
        {
          "output_type": "stream",
          "text": [
            "----- As melhores 100 features LogisticRegression --------\n",
            "\n",
            "\n",
            "Index(['AGE_PERCENTIL', 'DISEASE GROUPING 1', 'DISEASE GROUPING 2',\n",
            "       'DISEASE GROUPING 3', 'DISEASE GROUPING 4', 'DISEASE GROUPING 5', 'HTN',\n",
            "       'IMMUNOCOMPROMISED', 'ALBUMIN_MEDIAN', 'ALBUMIN_MEAN', 'ALBUMIN_MIN',\n",
            "       'ALBUMIN_MAX', 'BIC_VENOUS_MEDIAN', 'BIC_VENOUS_MEAN', 'BIC_VENOUS_MIN',\n",
            "       'BIC_VENOUS_MAX', 'BLAST_MEDIAN', 'BLAST_MEAN', 'BLAST_MIN',\n",
            "       'BLAST_MAX', 'CALCIUM_MEDIAN', 'CALCIUM_MEAN', 'CALCIUM_MIN',\n",
            "       'CALCIUM_MAX', 'CREATININ_MEDIAN', 'CREATININ_MEAN', 'CREATININ_MIN',\n",
            "       'CREATININ_MAX', 'GLUCOSE_MEDIAN', 'GLUCOSE_MEAN', 'LINFOCITOS_MEDIAN',\n",
            "       'LINFOCITOS_MEAN', 'LINFOCITOS_MIN', 'LINFOCITOS_MAX',\n",
            "       'NEUTROPHILES_MEDIAN', 'NEUTROPHILES_MEAN', 'NEUTROPHILES_MIN',\n",
            "       'NEUTROPHILES_MAX', 'P02_VENOUS_MEDIAN', 'P02_VENOUS_MEAN',\n",
            "       'P02_VENOUS_MIN', 'P02_VENOUS_MAX', 'PC02_VENOUS_MEDIAN',\n",
            "       'PC02_VENOUS_MEAN', 'PC02_VENOUS_MIN', 'PC02_VENOUS_MAX', 'PCR_MEDIAN',\n",
            "       'PCR_MEAN', 'PCR_MIN', 'PCR_MAX', 'POTASSIUM_MEDIAN', 'POTASSIUM_MEAN',\n",
            "       'POTASSIUM_MIN', 'POTASSIUM_MAX', 'SAT02_ARTERIAL_MEDIAN',\n",
            "       'SAT02_ARTERIAL_MEAN', 'SAT02_ARTERIAL_MIN', 'SAT02_ARTERIAL_MAX',\n",
            "       'SAT02_VENOUS_MEDIAN', 'SAT02_VENOUS_MEAN', 'SAT02_VENOUS_MIN',\n",
            "       'SAT02_VENOUS_MAX', 'SODIUM_MEDIAN', 'SODIUM_MEAN', 'SODIUM_MIN',\n",
            "       'SODIUM_MAX', 'TTPA_MEDIAN', 'TTPA_MEAN', 'TTPA_MIN', 'TTPA_MAX',\n",
            "       'UREA_MEDIAN', 'UREA_MEAN', 'UREA_MIN', 'UREA_MAX', 'DIMER_MEDIAN',\n",
            "       'DIMER_MEAN', 'DIMER_MIN', 'DIMER_MAX', 'BLOODPRESSURE_DIASTOLIC_MEAN',\n",
            "       'BLOODPRESSURE_SISTOLIC_MEAN', 'RESPIRATORY_RATE_MEAN',\n",
            "       'TEMPERATURE_MEAN', 'BLOODPRESSURE_DIASTOLIC_MEDIAN',\n",
            "       'RESPIRATORY_RATE_MEDIAN', 'TEMPERATURE_MEDIAN',\n",
            "       'OXYGEN_SATURATION_MEDIAN', 'BLOODPRESSURE_DIASTOLIC_MIN',\n",
            "       'HEART_RATE_MIN', 'TEMPERATURE_MIN', 'BLOODPRESSURE_SISTOLIC_MAX',\n",
            "       'RESPIRATORY_RATE_MAX', 'TEMPERATURE_MAX',\n",
            "       'BLOODPRESSURE_SISTOLIC_DIFF', 'HEART_RATE_DIFF',\n",
            "       'RESPIRATORY_RATE_DIFF', 'TEMPERATURE_DIFF',\n",
            "       'BLOODPRESSURE_SISTOLIC_DIFF_REL', 'HEART_RATE_DIFF_REL',\n",
            "       'RESPIRATORY_RATE_DIFF_REL', 'TEMPERATURE_DIFF_REL'],\n",
            "      dtype='object')\n",
            "Número de features: 100\n"
          ],
          "name": "stdout"
        }
      ]
    },
    {
      "cell_type": "markdown",
      "metadata": {
        "id": "ktJ87v2AVupr"
      },
      "source": [
        "## **Selecionando as melhores features/colunas dos nossos dados com VarianceThreshold**"
      ]
    },
    {
      "cell_type": "markdown",
      "metadata": {
        "id": "0TyZT9wPOagn"
      },
      "source": [
        "### Este algoritmo elimina todas as features com baixa variância nos valores, como mostrado no exemplo abaixo:\n",
        "\n",
        "**dist_1 = [2, 2, 2, 2, 2, 2, 2, 2]**\n",
        "\n",
        "### Numa coluna como a mostrada acima que contém o mesmo valor em todas as linhas a variância é zero. Mas se a coluna for como a lista a abaixo:\n",
        "\n",
        "**dist_2 = [5, 5, 5, 5, 5, 5, 5, 5, 5, 5, 6]**\n",
        "\n",
        "### A taxa seria muito baixa, próximo de zero, o que também é ruim e desnecessário para ser usado na construção do modelo.\n",
        "\n",
        "### Então é basicamente isso que o VarianceThreshold faz, ele elimina as features que possuem variância zero ou quase zero."
      ]
    },
    {
      "cell_type": "code",
      "metadata": {
        "id": "hKXk-aV_jQVQ"
      },
      "source": [
        "def selecao_features_variancethreshold():\n",
        "\n",
        "  # features/colunas\n",
        "  x = dados_finais.drop(['ICU', 'WINDOW', 'PATIENT_VISIT_IDENTIFIER'], axis=1)\n",
        "  y = dados_finais['ICU']\n",
        " \n",
        "  # Seleção das features \n",
        "  x_treino, x_teste, y_treino, y_teste = train_test_split(x,y, test_size=0.30, random_state=3165)\n",
        "  seletor = VarianceThreshold()\n",
        "  x_treino2 = seletor.fit_transform(x_treino, y_treino)\n",
        "  x_teste2 = seletor.transform(x_teste)\n",
        "  mask = seletor.get_support()\n",
        "  best_features = x.columns[mask]\n",
        "  \n",
        "  # Imprimindo os resultados\n",
        "  print('\\n')\n",
        "  print(f'----- As melhores features VarianceThreshold --------')\n",
        "  print('\\n')\n",
        "  print(best_features)"
      ],
      "execution_count": 19,
      "outputs": []
    },
    {
      "cell_type": "code",
      "metadata": {
        "id": "usXkyyI-tMiF",
        "colab": {
          "base_uri": "https://localhost:8080/"
        },
        "outputId": "adbdc380-49fe-41aa-b4de-a090f191707f"
      },
      "source": [
        "selecao_features_variancethreshold()"
      ],
      "execution_count": 20,
      "outputs": [
        {
          "output_type": "stream",
          "text": [
            "\n",
            "\n",
            "----- As melhores features VarianceThreshold --------\n",
            "\n",
            "\n",
            "Index(['AGE_ABOVE65', 'AGE_PERCENTIL', 'GENDER', 'DISEASE GROUPING 1',\n",
            "       'DISEASE GROUPING 2', 'DISEASE GROUPING 3', 'DISEASE GROUPING 4',\n",
            "       'DISEASE GROUPING 5', 'DISEASE GROUPING 6', 'HTN',\n",
            "       ...\n",
            "       'HEART_RATE_DIFF', 'RESPIRATORY_RATE_DIFF', 'TEMPERATURE_DIFF',\n",
            "       'OXYGEN_SATURATION_DIFF', 'BLOODPRESSURE_DIASTOLIC_DIFF_REL',\n",
            "       'BLOODPRESSURE_SISTOLIC_DIFF_REL', 'HEART_RATE_DIFF_REL',\n",
            "       'RESPIRATORY_RATE_DIFF_REL', 'TEMPERATURE_DIFF_REL',\n",
            "       'OXYGEN_SATURATION_DIFF_REL'],\n",
            "      dtype='object', length=192)\n"
          ],
          "name": "stdout"
        }
      ]
    },
    {
      "cell_type": "markdown",
      "metadata": {
        "id": "1BsSLkRmbotM"
      },
      "source": [
        "## **Selecionando as melhores features/colunas dos nossos dados com RemoveCorrVar (função criada em aula)**"
      ]
    },
    {
      "cell_type": "markdown",
      "metadata": {
        "id": "ph7HiufwReK9"
      },
      "source": [
        "### Esta função elimina todas as features que possuem uma forte correlação entre si, ela também elimina percentualmente os dados de algumas colunas ao invés de eliminar a coluna completamente."
      ]
    },
    {
      "cell_type": "code",
      "metadata": {
        "id": "Ip4zndaIfV92"
      },
      "source": [
        "class RemoveCorrVar(BaseEstimator, TransformerMixin):\n",
        "    def __init__( self, valor_corte = 0.95):\n",
        "        self.valor_corte = valor_corte\n",
        "        \n",
        "    def fit( self, X, y = None ):\n",
        "        #matrix_corr = X.iloc[:,4:].corr().abs()\n",
        "        matrix_corr = X.iloc[:,4:-2].corr().abs()\n",
        "        matrix_upper = matrix_corr.where(np.triu(np.ones(matrix_corr.shape), k=1).astype(np.bool))\n",
        "        self.excluir = [coluna for coluna in matrix_upper.columns if any(matrix_upper[coluna] > self.valor_corte)]\n",
        "        return self \n",
        "    \n",
        "    def transform(self, X, y = None):\n",
        "        X = X.drop(self.excluir, axis=1)\n",
        "        return X"
      ],
      "execution_count": null,
      "outputs": []
    },
    {
      "cell_type": "code",
      "metadata": {
        "id": "iKj-btDgf6Lv"
      },
      "source": [
        "def selecao_features_removecorrvar(dados):\n",
        "\n",
        "  # Seleção das features\n",
        "  seletor = RemoveCorrVar()\n",
        "  x_treino1 = seletor.fit(dados)\n",
        "  x_treino2 = seletor.transform(dados)\n",
        "  \n",
        "  # Imprimindo os resultados\n",
        "  best_features = x_treino2.columns\n",
        "  print(f'----- As melhores features RemoveCorrVar --------')\n",
        "  print('\\n')\n",
        "  print(best_features)\n",
        "  print(f'Número de features: {len(best_features)}')"
      ],
      "execution_count": null,
      "outputs": []
    },
    {
      "cell_type": "code",
      "metadata": {
        "id": "0evMrVIqvZFu",
        "colab": {
          "base_uri": "https://localhost:8080/"
        },
        "outputId": "e1feb3d9-252a-4700-84c1-200db85b095d"
      },
      "source": [
        "selecao_features_removecorrvar(dados_finais)"
      ],
      "execution_count": null,
      "outputs": [
        {
          "output_type": "stream",
          "text": [
            "----- As melhores features RemoveCorrVar --------\n",
            "\n",
            "\n",
            "Index(['PATIENT_VISIT_IDENTIFIER', 'AGE_ABOVE65', 'AGE_PERCENTIL', 'GENDER',\n",
            "       'DISEASE GROUPING 1', 'DISEASE GROUPING 2', 'DISEASE GROUPING 3',\n",
            "       'DISEASE GROUPING 4', 'DISEASE GROUPING 5', 'DISEASE GROUPING 6', 'HTN',\n",
            "       'IMMUNOCOMPROMISED', 'OTHER', 'ALBUMIN_MEDIAN', 'ALBUMIN_DIFF',\n",
            "       'BE_ARTERIAL_MEDIAN', 'BE_ARTERIAL_DIFF', 'BE_VENOUS_MEDIAN',\n",
            "       'BE_VENOUS_DIFF', 'BIC_ARTERIAL_MEDIAN', 'BIC_ARTERIAL_DIFF',\n",
            "       'BIC_VENOUS_MEDIAN', 'BIC_VENOUS_DIFF', 'BILLIRUBIN_MEDIAN',\n",
            "       'BILLIRUBIN_DIFF', 'BLAST_MEDIAN', 'BLAST_DIFF', 'CALCIUM_MEDIAN',\n",
            "       'CALCIUM_DIFF', 'CREATININ_MEDIAN', 'CREATININ_DIFF', 'FFA_MEDIAN',\n",
            "       'FFA_DIFF', 'GGT_MEDIAN', 'GGT_DIFF', 'GLUCOSE_MEDIAN', 'GLUCOSE_DIFF',\n",
            "       'HEMATOCRITE_MEDIAN', 'HEMATOCRITE_DIFF', 'HEMOGLOBIN_DIFF',\n",
            "       'INR_MEDIAN', 'INR_DIFF', 'LACTATE_MEDIAN', 'LACTATE_DIFF',\n",
            "       'LEUKOCYTES_MEDIAN', 'LEUKOCYTES_DIFF', 'LINFOCITOS_MEDIAN',\n",
            "       'LINFOCITOS_DIFF', 'NEUTROPHILES_DIFF', 'P02_ARTERIAL_MEDIAN',\n",
            "       'P02_ARTERIAL_DIFF', 'P02_VENOUS_MEDIAN', 'P02_VENOUS_DIFF',\n",
            "       'PC02_ARTERIAL_MEDIAN', 'PC02_ARTERIAL_DIFF', 'PC02_VENOUS_MEDIAN',\n",
            "       'PC02_VENOUS_DIFF', 'PCR_MEDIAN', 'PCR_DIFF', 'PH_ARTERIAL_MEDIAN',\n",
            "       'PH_ARTERIAL_DIFF', 'PH_VENOUS_MEDIAN', 'PH_VENOUS_DIFF',\n",
            "       'PLATELETS_MEDIAN', 'PLATELETS_DIFF', 'POTASSIUM_MEDIAN',\n",
            "       'POTASSIUM_DIFF', 'SAT02_ARTERIAL_MEDIAN', 'SAT02_ARTERIAL_DIFF',\n",
            "       'SAT02_VENOUS_MEDIAN', 'SAT02_VENOUS_DIFF', 'SODIUM_MEDIAN',\n",
            "       'SODIUM_DIFF', 'TGO_MEDIAN', 'TGO_DIFF', 'TGP_MEDIAN', 'TGP_DIFF',\n",
            "       'TTPA_MEDIAN', 'TTPA_DIFF', 'UREA_MEDIAN', 'UREA_DIFF', 'DIMER_MEDIAN',\n",
            "       'DIMER_DIFF', 'BLOODPRESSURE_DIASTOLIC_MEAN',\n",
            "       'BLOODPRESSURE_SISTOLIC_MEAN', 'HEART_RATE_MEAN',\n",
            "       'RESPIRATORY_RATE_MEAN', 'TEMPERATURE_MEAN', 'OXYGEN_SATURATION_MEAN',\n",
            "       'RESPIRATORY_RATE_MIN', 'BLOODPRESSURE_DIASTOLIC_MAX',\n",
            "       'BLOODPRESSURE_DIASTOLIC_DIFF', 'BLOODPRESSURE_SISTOLIC_DIFF',\n",
            "       'HEART_RATE_DIFF', 'RESPIRATORY_RATE_DIFF', 'TEMPERATURE_DIFF',\n",
            "       'OXYGEN_SATURATION_DIFF', 'WINDOW', 'ICU'],\n",
            "      dtype='object')\n",
            "Número de features: 99\n"
          ],
          "name": "stdout"
        }
      ]
    }
  ]
}