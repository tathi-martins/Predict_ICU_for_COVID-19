{
  "nbformat": 4,
  "nbformat_minor": 0,
  "metadata": {
    "colab": {
      "name": "modelos_ml_projeto_final.ipynb",
      "provenance": []
    },
    "kernelspec": {
      "display_name": "Python 3",
      "name": "python3"
    },
    "language_info": {
      "name": "python"
    }
  },
  "cells": [
    {
      "cell_type": "markdown",
      "metadata": {
        "id": "3Fbvz48y9yl1"
      },
      "source": [
        "# **Modelos:**"
      ]
    },
    {
      "cell_type": "markdown",
      "metadata": {
        "id": "zdgYOVFbZ0Xh"
      },
      "source": [
        "**Classificação**\n",
        "\n",
        "Um modelo de classificação binária tem como objetivo decidir em qual classe uma nova observação pertence dentre duas classes possíveis. Em geral as duas classes, denominadas de positiva (P) e negativa (N), indicam a ocorrência ou não de um determinado evento. Um exemplo seria classificar se um determinado paciente possui uma determinada doença (positivo) ou não (negativo), no nosso caso, se um paciente irá para a UTI ou não.\n",
        "\n",
        "A avaliação de um modelo de classificação é feita a partir da comparação entre as classes preditas pelo modelo e as classes verdadeiras de cada exemplo. Todas as métricas de classificação têm como objetivo comum medir quão distante o modelo está da classificação perfeita, porém fazem isto de formas diferentes. "
      ]
    },
    {
      "cell_type": "markdown",
      "metadata": {
        "id": "U5ImZ4zmYPF2"
      },
      "source": [
        "**Aqui criamos os modelos baseados nos resultados obtidos na primeira vez que rodamos o Hyperopt-sklearn.**"
      ]
    },
    {
      "cell_type": "code",
      "metadata": {
        "id": "DhqSqGuG3Hkx",
        "colab": {
          "base_uri": "https://localhost:8080/"
        },
        "outputId": "f781c0ea-f5a3-4e6c-ba7b-1d8e3df5b12e"
      },
      "source": [
        "x = dados_finais.drop(['ICU', 'WINDOW', 'PATIENT_VISIT_IDENTIFIER'], axis=1)\n",
        "y = dados_finais['ICU']\n",
        "\n",
        "x_treino, x_teste, y_treino, y_teste = train_test_split(x,y, test_size=0.30, random_state=3165)\n",
        "\n",
        "modelo_xgb = XGBClassifier(base_score=0.5, booster='gbtree',\n",
        "              colsample_bylevel=0.7122430515098567, colsample_bynode=1,\n",
        "              colsample_bytree=0.6563933196495118, gamma=0.023202700338567202,\n",
        "              learning_rate=0.014756432963507891, max_delta_step=0, max_depth=2,\n",
        "              min_child_weight=1, n_estimators=2400, n_jobs=1,\n",
        "              nthread=None, objective='binary:logistic', random_state=3,\n",
        "              reg_alpha=0.0006799769318328834, reg_lambda=3.069072358424827,\n",
        "              scale_pos_weight=1, seed=3, silent=None,\n",
        "              subsample=0.621190538706629, verbosity=1)\n",
        "\n",
        "modelo_xgb.fit(x_treino, y_treino)\n",
        "y_pred = modelo_xgb.predict(x_teste)\n",
        "y_proba = modelo_xgb.predict_proba(x_teste)[:,1]\n",
        "\n",
        "\n",
        "# Resultados \n",
        "print(classification_report(y_teste, y_pred))\n",
        "print('\\n')\n",
        "print(f'AUC: ', round(roc_auc_score(y_teste, y_proba),2))\n",
        "print(f'Precision-Recall: ', round(average_precision_score(y_teste, y_proba), 2))\n"
      ],
      "execution_count": null,
      "outputs": [
        {
          "output_type": "stream",
          "text": [
            "              precision    recall  f1-score   support\n",
            "\n",
            "           0       0.82      0.75      0.78        63\n",
            "           1       0.67      0.77      0.72        43\n",
            "\n",
            "    accuracy                           0.75       106\n",
            "   macro avg       0.75      0.76      0.75       106\n",
            "weighted avg       0.76      0.75      0.76       106\n",
            "\n",
            "\n",
            "\n",
            "AUC:  0.79\n",
            "Precision-Recall:  0.73\n"
          ],
          "name": "stdout"
        }
      ]
    },
    {
      "cell_type": "markdown",
      "metadata": {
        "id": "b5rRuWuCjV2y"
      },
      "source": [
        "O **XGBClassifier** ou **XGBoost**, pode ser usado para problemas de regressão, pontuação ou classificação. O nome XGBoost vem de e**X**treme **G**radient **Boost**ing, e representa uma categoria de algoritmo baseada em Decision Trees (árvores de decisão) com Gradient Boosting (aumento de gradiente)."
      ]
    },
    {
      "cell_type": "code",
      "metadata": {
        "id": "fF3GtYBk96Z_",
        "colab": {
          "base_uri": "https://localhost:8080/"
        },
        "outputId": "b547d1d3-8600-4827-e3b0-bf4286848dec"
      },
      "source": [
        "x = dados_finais.drop(['ICU', 'WINDOW', 'PATIENT_VISIT_IDENTIFIER'], axis=1)\n",
        "y = dados_finais['ICU']\n",
        "\n",
        "x_treino, x_teste, y_treino, y_teste = train_test_split(x,y, test_size=0.30, random_state=3165)\n",
        "\n",
        "modelo_gradbc = GradientBoostingClassifier(ccp_alpha=0.0, criterion='friedman_mse', init=None,\n",
        "                           learning_rate=0.10424580789804516, loss='deviance',\n",
        "                           max_depth=None, max_features='sqrt',\n",
        "                           max_leaf_nodes=None, min_impurity_decrease=0.0,\n",
        "                           min_impurity_split=None, min_samples_leaf=9,\n",
        "                           min_samples_split=2, min_weight_fraction_leaf=0.0,\n",
        "                           n_estimators=17, n_iter_no_change=None,\n",
        "                           presort='deprecated', random_state=4,\n",
        "                           subsample=0.5083091113075304, tol=0.0001,\n",
        "                           validation_fraction=0.1, verbose=0,\n",
        "                           warm_start=False)\n",
        "\n",
        "modelo_gradbc.fit(x_treino, y_treino)\n",
        "y_pred = modelo_gradbc.predict(x_teste)\n",
        "y_proba = modelo_gradbc.predict_proba(x_teste)[:,1]\n",
        "\n",
        "\n",
        "# Resultados \n",
        "print(classification_report(y_teste, y_pred))\n",
        "print('\\n')\n",
        "print(f'AUC: ', round(roc_auc_score(y_teste, y_proba),2))\n",
        "print(f'Precision-Recall: ', round(average_precision_score(y_teste, y_proba), 2))"
      ],
      "execution_count": null,
      "outputs": [
        {
          "output_type": "stream",
          "text": [
            "              precision    recall  f1-score   support\n",
            "\n",
            "           0       0.73      0.78      0.75        55\n",
            "           1       0.74      0.69      0.71        51\n",
            "\n",
            "    accuracy                           0.74       106\n",
            "   macro avg       0.74      0.73      0.73       106\n",
            "weighted avg       0.74      0.74      0.74       106\n",
            "\n",
            "\n",
            "\n",
            "AUC:  0.77\n",
            "Precision-Recall:  0.71\n"
          ],
          "name": "stdout"
        }
      ]
    },
    {
      "cell_type": "markdown",
      "metadata": {
        "id": "qmcU6IcwIpV4"
      },
      "source": [
        "O modelo **Gradiente Boosting** funciona criando um modelo inicial e apartir dos erros deste modelo ele cria outro levando em consideração apenas os dados do erro, e assim ele vai criando iterações até que ele utilize todos os erros residuais e faça a previsão final."
      ]
    },
    {
      "cell_type": "code",
      "metadata": {
        "id": "qI9Fvdw9DjLj",
        "colab": {
          "base_uri": "https://localhost:8080/"
        },
        "outputId": "350b15ec-de76-4681-a83b-460d3eb90514"
      },
      "source": [
        "x = dados_finais.drop(['ICU', 'WINDOW', 'PATIENT_VISIT_IDENTIFIER'], axis=1)\n",
        "y = dados_finais['ICU']\n",
        "\n",
        "x_treino, x_teste, y_treino, y_teste = train_test_split(x,y, test_size=0.30, random_state=3165)\n",
        "\n",
        "modelo_rdnforest = RandomForestClassifier(bootstrap=True, ccp_alpha=0.0, class_weight=None,\n",
        "                       criterion='gini', max_depth=2, max_features='sqrt',\n",
        "                       max_leaf_nodes=None, max_samples=None,\n",
        "                       min_impurity_decrease=0.0, min_impurity_split=None,\n",
        "                       min_samples_leaf=18, min_samples_split=2,\n",
        "                       min_weight_fraction_leaf=0.0, n_estimators=968, n_jobs=1,\n",
        "                       oob_score=False, random_state=2, verbose=False,\n",
        "                       warm_start=False)\n",
        "\n",
        "modelo_rdnforest.fit(x_treino, y_treino)\n",
        "y_pred = modelo_rdnforest.predict(x_teste)\n",
        "y_proba = modelo_rdnforest.predict_proba(x_teste)[:,1]\n",
        "\n",
        "\n",
        "# Resultados \n",
        "print(classification_report(y_teste, y_pred))\n",
        "print('\\n')\n",
        "print(f'AUC: ', round(roc_auc_score(y_teste, y_proba),2))\n",
        "print(f'Precision-Recall: ', round(average_precision_score(y_teste, y_proba), 2))"
      ],
      "execution_count": null,
      "outputs": [
        {
          "output_type": "stream",
          "text": [
            "              precision    recall  f1-score   support\n",
            "\n",
            "           0       0.74      0.83      0.78        63\n",
            "           1       0.69      0.58      0.63        43\n",
            "\n",
            "    accuracy                           0.73       106\n",
            "   macro avg       0.72      0.70      0.71       106\n",
            "weighted avg       0.72      0.73      0.72       106\n",
            "\n",
            "\n",
            "\n",
            "AUC:  0.75\n",
            "Precision-Recall:  0.64\n"
          ],
          "name": "stdout"
        }
      ]
    },
    {
      "cell_type": "code",
      "metadata": {
        "id": "NtTx8NwV6bzS",
        "colab": {
          "base_uri": "https://localhost:8080/"
        },
        "outputId": "0ac9c5fb-1c30-4358-b0d7-83c7f39fc4d2"
      },
      "source": [
        "# Modelo LGBM\n",
        "x = dados_finais.drop(['ICU', 'WINDOW', 'PATIENT_VISIT_IDENTIFIER'], axis=1)\n",
        "y = dados_finais['ICU']\n",
        "\n",
        "x_treino, x_teste, y_treino, y_teste = train_test_split(x,y, test_size=0.30, random_state=3165)\n",
        "\n",
        "modelo_lgbm = LGBMClassifier(reg_lambda= 1.8,\n",
        "                              learning_rate= 1.0,\n",
        "                              max_depth= 0,\n",
        "                              min_child_samples= 11.1,\n",
        "                              min_data_in_leaf= 33,\n",
        "                              n_estimators= 647,\n",
        "                              num_leaves= 22)\n",
        "\n",
        "modelo_lgbm.fit(x_treino, y_treino)\n",
        "#y_pred = modelo_lgbm.predict(x_teste)\n",
        "#y_proba = modelo_lgbm.predict_proba(x_teste)[:,1]\n",
        "y_proba2 = modelo_lgbm.predict_proba(x_teste)\n",
        "y_proba = y_proba2[:,1]\n",
        "\n",
        "\n",
        "# Resultados \n",
        "print(classification_report(y_teste, y_pred))\n",
        "print('\\n')\n",
        "print(f'AUC: ', round(roc_auc_score(y_teste, y_proba),2))\n",
        "print(f'Precision-Recall: ', round(average_precision_score(y_teste, y_proba), 2))"
      ],
      "execution_count": null,
      "outputs": [
        {
          "output_type": "stream",
          "text": [
            "              precision    recall  f1-score   support\n",
            "\n",
            "           0       0.69      0.87      0.77        55\n",
            "           1       0.81      0.57      0.67        51\n",
            "\n",
            "    accuracy                           0.73       106\n",
            "   macro avg       0.75      0.72      0.72       106\n",
            "weighted avg       0.74      0.73      0.72       106\n",
            "\n",
            "\n",
            "\n",
            "AUC:  0.79\n",
            "Precision-Recall:  0.79\n"
          ],
          "name": "stdout"
        }
      ]
    },
    {
      "cell_type": "markdown",
      "metadata": {
        "id": "Rvi4dk4lV_Vq"
      },
      "source": [
        " LightGBM é um sistema distribuído e eficiente estrutura de aumento de gradiente que usa aprendizagem baseada em árvores de decisão. É baseado em histograma e coloca valores contínuos em compartimentos discretos, o que leva a um treinamento mais rápido e um uso mais eficiente da memória. Ele usa um algoritmo de crescimento de árvore em folha, que é diferente de outros algoritmos baseados em árvore que usam crescimento em profundidade. Os algoritmos de crescimento de árvores em folhas tendem a convergir mais rapidamente que os em profundidade. No entanto, eles tendem a ser mais propensos a sobreajuste (overfitting).\n",
        "\n",
        " Segundo os documentos oficiais do LightGBM as vantagens dele são: \n",
        " \n",
        " \n",
        "- Maior velocidade de treinamento e maior eficiência;\n",
        "\n",
        "- Menor uso de memória;\n",
        "\n",
        "- Maior precisão;\n",
        "\n",
        "- Suporte ao aprendizado paralelo e GPU;\n",
        "\n",
        "- Capaz de lidar com dados em larga escala."
      ]
    },
    {
      "cell_type": "markdown",
      "metadata": {
        "id": "ZHYrkuHI6cfy"
      },
      "source": [
        "# **Selecionando os melhores modelos**"
      ]
    },
    {
      "cell_type": "markdown",
      "metadata": {
        "id": "9Q6C7Jn3aDej"
      },
      "source": [
        "### As métricas utilizadas neste projeto são as mais indicadas para problemas de classificação binária como é o nosso caso, dado que temos que prever se um paciente com COVID-19 irá ou não para a UTI em até 2h após admissão no hospital. É por isso que utilizaremos o AUC, Matriz de Confusão e estatística Kolmogorov-Smirnov como as principais metricas de desempenho dos modelos e como critério de escolha do melhor modelo que poderá ser levado para produção, porque estas métricas colocam o mesmo peso tanto nas classes negativas como nas positivas. Em todos eles quanto mais próximo de 1.0 melhor é o modelo."
      ]
    },
    {
      "cell_type": "code",
      "metadata": {
        "id": "69m-iaNQ7RRX"
      },
      "source": [
        "def modelo_pipeline_com_seleciona_features(modelo, dados, n_splits, n_repeats, funcao_seleciona_features):\n",
        "\n",
        "    np.random.seed(3165)\n",
        "    dados = dados.sample(frac=1)\n",
        "    y = dados[\"ICU\"]\n",
        "    x = dados.drop([\"ICU\",\"WINDOW\", 'PATIENT_VISIT_IDENTIFIER'], axis=1)\n",
        "\n",
        "    pipeline = Pipeline([('cat_selector', funcao_seleciona_features),\n",
        "                         ('Modelo', modelo)])    \n",
        "    \n",
        "    cv = RepeatedStratifiedKFold(n_splits = n_splits, n_repeats=n_repeats)\n",
        "    resultados=cross_validate(pipeline, x, y, cv=cv, scoring='roc_auc', return_train_score=True)\n",
        "    \n",
        "    auc_medio = np.mean(resultados['test_score'])\n",
        "    auc_medio_treino = np.mean(resultados['train_score'])\n",
        "\n",
        "    auc_std = np.std(resultados['test_score'])\n",
        "\n",
        "    # Calculando o Kolmogorov-Smirnov statistic\n",
        "    res = binary_ks_curve(y_teste, y_pred)\n",
        "    ks_stat = res[3]\n",
        "    ks_stat\n",
        "\n",
        "    print(classification_report(y_teste, y_pred))\n",
        "    print('\\n')\n",
        "    print(f'Kolmogorov-Smirnov statistic: ', ks_stat)\n",
        "    print('\\n')\n",
        "    print(f'Desvio padrão do AUC  {auc_std}')\n",
        "    print('\\n')\n",
        "    return auc_medio, auc_medio_treino"
      ],
      "execution_count": null,
      "outputs": []
    },
    {
      "cell_type": "code",
      "metadata": {
        "id": "gGdww-654ios",
        "colab": {
          "base_uri": "https://localhost:8080/"
        },
        "outputId": "553f1f16-ee1a-478c-f4ba-d66855c32a89"
      },
      "source": [
        "# Melhor modelo para a seleção de features RemoveCorrVar\n",
        "# Modelo 1\n",
        "modelo_pipeline_com_seleciona_features(modelo_xgb, dados_finais, 5, 10, RemoveCorrVar())"
      ],
      "execution_count": null,
      "outputs": [
        {
          "output_type": "stream",
          "text": [
            "              precision    recall  f1-score   support\n",
            "\n",
            "           0       0.72      0.75      0.73        55\n",
            "           1       0.71      0.69      0.70        51\n",
            "\n",
            "    accuracy                           0.72       106\n",
            "   macro avg       0.72      0.72      0.72       106\n",
            "weighted avg       0.72      0.72      0.72       106\n",
            "\n",
            "\n",
            "\n",
            "Kolmogorov-Smirnov statistic:  0.43172905525846705\n",
            "\n",
            "\n",
            "Desvio padrão do AUC  0.040574967329858755\n",
            "\n",
            "\n"
          ],
          "name": "stdout"
        },
        {
          "output_type": "execute_result",
          "data": {
            "text/plain": [
              "(0.7942857854864432, 0.9998920171832988)"
            ]
          },
          "metadata": {
            "tags": []
          },
          "execution_count": 33
        }
      ]
    },
    {
      "cell_type": "code",
      "metadata": {
        "id": "ynYai7pfPz7N",
        "colab": {
          "base_uri": "https://localhost:8080/"
        },
        "outputId": "33e2fcfd-b3e9-4746-eede-5599c73bd1fe"
      },
      "source": [
        "# Modelo 2\n",
        "modelo_pipeline_com_seleciona_features(modelo_lgbm, dados_finais, 5, 10, RemoveCorrVar())"
      ],
      "execution_count": null,
      "outputs": [
        {
          "output_type": "stream",
          "text": [
            "              precision    recall  f1-score   support\n",
            "\n",
            "           0       0.72      0.75      0.73        55\n",
            "           1       0.71      0.69      0.70        51\n",
            "\n",
            "    accuracy                           0.72       106\n",
            "   macro avg       0.72      0.72      0.72       106\n",
            "weighted avg       0.72      0.72      0.72       106\n",
            "\n",
            "\n",
            "\n",
            "Kolmogorov-Smirnov statistic:  0.43172905525846705\n",
            "\n",
            "\n",
            "Desvio padrão do AUC  0.04648291168993006\n",
            "\n",
            "\n"
          ],
          "name": "stdout"
        },
        {
          "output_type": "execute_result",
          "data": {
            "text/plain": [
              "(0.7585959928229665, 1.0)"
            ]
          },
          "metadata": {
            "tags": []
          },
          "execution_count": 34
        }
      ]
    },
    {
      "cell_type": "code",
      "metadata": {
        "id": "BToSC0An_as_",
        "colab": {
          "base_uri": "https://localhost:8080/"
        },
        "outputId": "0fd552ed-4875-4c25-94f0-c8c9b5a0ba24"
      },
      "source": [
        "# Melhor modelo usando SelecKBest\n",
        "# Modelo 3\n",
        "modelo_pipeline_com_seleciona_features(modelo_gradbc, dados_finais, 5, 10, SelectKBest(k=100))"
      ],
      "execution_count": null,
      "outputs": [
        {
          "output_type": "stream",
          "text": [
            "              precision    recall  f1-score   support\n",
            "\n",
            "           0       0.72      0.75      0.73        55\n",
            "           1       0.71      0.69      0.70        51\n",
            "\n",
            "    accuracy                           0.72       106\n",
            "   macro avg       0.72      0.72      0.72       106\n",
            "weighted avg       0.72      0.72      0.72       106\n",
            "\n",
            "\n",
            "\n",
            "Kolmogorov-Smirnov statistic:  0.43172905525846705\n",
            "\n",
            "\n",
            "Desvio padrão do AUC  0.04462134445211362\n",
            "\n",
            "\n"
          ],
          "name": "stdout"
        },
        {
          "output_type": "execute_result",
          "data": {
            "text/plain": [
              "(0.779557914673046, 0.9607990543004605)"
            ]
          },
          "metadata": {
            "tags": []
          },
          "execution_count": 35
        }
      ]
    },
    {
      "cell_type": "code",
      "metadata": {
        "id": "w8iaLbKCEwpc",
        "colab": {
          "base_uri": "https://localhost:8080/"
        },
        "outputId": "36e6a656-1ce9-409b-d2d2-efd913940afb"
      },
      "source": [
        "# Melhor modelo usando VarianceThreshold\n",
        "# Modelo 4\n",
        "modelo_pipeline_com_seleciona_features(modelo_rdnforest, dados_finais, 5, 10, VarianceThreshold())"
      ],
      "execution_count": null,
      "outputs": [
        {
          "output_type": "stream",
          "text": [
            "              precision    recall  f1-score   support\n",
            "\n",
            "           0       0.72      0.75      0.73        55\n",
            "           1       0.71      0.69      0.70        51\n",
            "\n",
            "    accuracy                           0.72       106\n",
            "   macro avg       0.72      0.72      0.72       106\n",
            "weighted avg       0.72      0.72      0.72       106\n",
            "\n",
            "\n",
            "\n",
            "Kolmogorov-Smirnov statistic:  0.43172905525846705\n",
            "\n",
            "\n",
            "Desvio padrão do AUC  0.0378861325726055\n",
            "\n",
            "\n"
          ],
          "name": "stdout"
        },
        {
          "output_type": "execute_result",
          "data": {
            "text/plain": [
              "(0.7851370614035088, 0.8834056927403654)"
            ]
          },
          "metadata": {
            "tags": []
          },
          "execution_count": 36
        }
      ]
    },
    {
      "cell_type": "code",
      "metadata": {
        "id": "zWSAix4L8oN-",
        "colab": {
          "base_uri": "https://localhost:8080/"
        },
        "outputId": "5637a649-069d-4517-cf4f-5a1e606033c1"
      },
      "source": [
        "# Modelos usando SelectFromModel\n",
        "# Modelo 5\n",
        "modelo_pipeline_com_seleciona_features(modelo_rdnforest, dados_finais, 5, 10, SelectFromModel(estimator=modelo_rdnforest, max_features = 100))"
      ],
      "execution_count": null,
      "outputs": [
        {
          "output_type": "stream",
          "text": [
            "              precision    recall  f1-score   support\n",
            "\n",
            "           0       0.72      0.75      0.73        55\n",
            "           1       0.71      0.69      0.70        51\n",
            "\n",
            "    accuracy                           0.72       106\n",
            "   macro avg       0.72      0.72      0.72       106\n",
            "weighted avg       0.72      0.72      0.72       106\n",
            "\n",
            "\n",
            "\n",
            "Kolmogorov-Smirnov statistic:  0.43172905525846705\n",
            "\n",
            "\n",
            "Desvio padrão do AUC  0.03883210396455561\n",
            "\n",
            "\n"
          ],
          "name": "stdout"
        },
        {
          "output_type": "execute_result",
          "data": {
            "text/plain": [
              "(0.7753613437001593, 0.8733160367153939)"
            ]
          },
          "metadata": {
            "tags": []
          },
          "execution_count": 37
        }
      ]
    },
    {
      "cell_type": "code",
      "metadata": {
        "id": "3OXnG7wv9F52",
        "colab": {
          "base_uri": "https://localhost:8080/"
        },
        "outputId": "b2012a38-5647-4d8a-ec22-eec6d72504df"
      },
      "source": [
        "# Modelo 6\n",
        "modelo_pipeline_com_seleciona_features(modelo_gradbc, dados_finais, 5, 10, SelectFromModel(estimator=modelo_gradbc, max_features = 100))"
      ],
      "execution_count": null,
      "outputs": [
        {
          "output_type": "stream",
          "text": [
            "              precision    recall  f1-score   support\n",
            "\n",
            "           0       0.72      0.75      0.73        55\n",
            "           1       0.71      0.69      0.70        51\n",
            "\n",
            "    accuracy                           0.72       106\n",
            "   macro avg       0.72      0.72      0.72       106\n",
            "weighted avg       0.72      0.72      0.72       106\n",
            "\n",
            "\n",
            "\n",
            "Kolmogorov-Smirnov statistic:  0.43172905525846705\n",
            "\n",
            "\n",
            "Desvio padrão do AUC  0.042403289878599454\n",
            "\n",
            "\n"
          ],
          "name": "stdout"
        },
        {
          "output_type": "execute_result",
          "data": {
            "text/plain": [
              "(0.7678319377990431, 0.9654695120066755)"
            ]
          },
          "metadata": {
            "tags": []
          },
          "execution_count": 38
        }
      ]
    },
    {
      "cell_type": "code",
      "metadata": {
        "id": "-DR0zA-_9Gr3",
        "colab": {
          "base_uri": "https://localhost:8080/"
        },
        "outputId": "3b4876f3-9b0f-44cd-9287-9688f8d7bc51"
      },
      "source": [
        "# Modelo 7\n",
        "modelo_pipeline_com_seleciona_features(modelo_xgb, dados_finais, 5, 10, SelectFromModel(estimator=modelo_xgb, max_features = 100))"
      ],
      "execution_count": null,
      "outputs": [
        {
          "output_type": "stream",
          "text": [
            "              precision    recall  f1-score   support\n",
            "\n",
            "           0       0.72      0.75      0.73        55\n",
            "           1       0.71      0.69      0.70        51\n",
            "\n",
            "    accuracy                           0.72       106\n",
            "   macro avg       0.72      0.72      0.72       106\n",
            "weighted avg       0.72      0.72      0.72       106\n",
            "\n",
            "\n",
            "\n",
            "Kolmogorov-Smirnov statistic:  0.43172905525846705\n",
            "\n",
            "\n",
            "Desvio padrão do AUC  0.04143480043794054\n",
            "\n",
            "\n"
          ],
          "name": "stdout"
        },
        {
          "output_type": "execute_result",
          "data": {
            "text/plain": [
              "(0.7890829346092504, 0.999962689680749)"
            ]
          },
          "metadata": {
            "tags": []
          },
          "execution_count": 39
        }
      ]
    },
    {
      "cell_type": "code",
      "metadata": {
        "id": "tM5OLqyB9nUy",
        "colab": {
          "base_uri": "https://localhost:8080/"
        },
        "outputId": "415edd38-6c8d-422d-d164-484c87b3c0dd"
      },
      "source": [
        "# Modelo 8\n",
        "modelo_pipeline_com_seleciona_features(modelo_lgbm, dados_finais, 5, 10, SelectFromModel(estimator=modelo_lgbm, max_features = 100))"
      ],
      "execution_count": null,
      "outputs": [
        {
          "output_type": "stream",
          "text": [
            "              precision    recall  f1-score   support\n",
            "\n",
            "           0       0.72      0.75      0.73        55\n",
            "           1       0.71      0.69      0.70        51\n",
            "\n",
            "    accuracy                           0.72       106\n",
            "   macro avg       0.72      0.72      0.72       106\n",
            "weighted avg       0.72      0.72      0.72       106\n",
            "\n",
            "\n",
            "\n",
            "Kolmogorov-Smirnov statistic:  0.43172905525846705\n",
            "\n",
            "\n",
            "Desvio padrão do AUC  0.04579353448421466\n",
            "\n",
            "\n"
          ],
          "name": "stdout"
        },
        {
          "output_type": "execute_result",
          "data": {
            "text/plain": [
              "(0.7677566786283891, 1.0)"
            ]
          },
          "metadata": {
            "tags": []
          },
          "execution_count": 40
        }
      ]
    },
    {
      "cell_type": "markdown",
      "metadata": {
        "id": "A-eIvNdIadJ6"
      },
      "source": [
        "### Podemos observar que o **Modelo 1** é o que tem apresentado as melhores métricas, mas para confirmar que este é de fato o melhor modelo a ser levado em produção vamos criar alguns gráficos que nos ajude a tomar uma decisão mais embasada. Veremos isso na próxima sessão, Gráficos de desempenho."
      ]
    }
  ]
}